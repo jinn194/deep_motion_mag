{
  "cells": [
    {
      "cell_type": "code",
      "execution_count": null,
      "metadata": {
        "id": "CI69g7RoqZss",
        "colab": {
          "base_uri": "https://localhost:8080/"
        },
        "outputId": "3394b8cc-05ad-40ab-b8d5-b41a1ed87cf5"
      },
      "outputs": [
        {
          "output_type": "stream",
          "name": "stdout",
          "text": [
            "Mounted at /content/drive\n"
          ]
        }
      ],
      "source": [
        "from google.colab import drive\n",
        "drive.mount('/content/drive')"
      ]
    },
    {
      "cell_type": "code",
      "execution_count": null,
      "metadata": {
        "id": "GvjkEc3-xzIW"
      },
      "outputs": [],
      "source": [
        "# !pip install tensorflow  #if the library is not installed then install by this "
      ]
    },
    {
      "cell_type": "code",
      "execution_count": null,
      "metadata": {
        "id": "UfmMx1z_9f3U"
      },
      "outputs": [],
      "source": [
        "import os\n",
        "import cv2\n",
        "import numpy as np\n",
        "import matplotlib.pyplot as plt\n",
        "\n",
        "import tensorflow as tf\n",
        "from tensorflow import keras\n",
        "from tensorflow.keras import layers"
      ]
    },
    {
      "cell_type": "markdown",
      "metadata": {
        "id": "5fys1TbFCFlK"
      },
      "source": [
        "train images loading"
      ]
    },
    {
      "cell_type": "code",
      "execution_count": null,
      "metadata": {
        "id": "Vvd673PXUyP1"
      },
      "outputs": [],
      "source": [
        "# Create a list to store the images and labels\n",
        "train_images = []\n",
        "train_labels = []\n",
        "\n",
        "# Path to the data\n",
        "path = '/dir_path'\n",
        "\n",
        "# Loop over each class directory\n",
        "for i, class_name in enumerate(os.listdir(path)):\n",
        "    # Loop over each image in the class directory\n",
        "    for filename in os.listdir(os.path.join(path, class_name)):\n",
        "        # Load the image using OpenCV\n",
        "        img = cv2.imread(os.path.join(path, class_name, filename))\n",
        "\n",
        "        # Resize the image to a fixed size\n",
        "        img = cv2.resize(img, (224,224))\n",
        "\n",
        "        # Add the image and label to the lists\n",
        "        train_images.append(img)\n",
        "        train_labels.append(i)"
      ]
    },
    {
      "cell_type": "code",
      "execution_count": null,
      "metadata": {
        "id": "6tqS4qwqyzXn"
      },
      "outputs": [],
      "source": [
        "# Convert the images and labels to NumPy arrays\n",
        "train_images = np.array(train_images)\n",
        "train_labels = np.array(train_labels)"
      ]
    },
    {
      "cell_type": "code",
      "execution_count": null,
      "metadata": {
        "id": "c8714Z1nSMxM"
      },
      "outputs": [],
      "source": [
        "# Normalize the pixel values to the range [0,1]\n",
        "train_images = train_images / 255.0"
      ]
    },
    {
      "cell_type": "markdown",
      "metadata": {
        "id": "whyP926lDnXZ"
      },
      "source": [
        "loadin validation"
      ]
    },
    {
      "cell_type": "code",
      "execution_count": null,
      "metadata": {
        "id": "qXdhF7jn0bZD"
      },
      "outputs": [],
      "source": [
        "# loading validation data\n",
        "# Create a list to store the validation_images and labels\n",
        "val_images = []\n",
        "val_labels = []\n",
        "\n",
        "# path to validation images\n",
        "val_path = '/dir_path'\n",
        "\n",
        "# Loop over each class directory\n",
        "for i, class_name in enumerate(os.listdir(val_path)):\n",
        "    # Loop over each image in the class directory\n",
        "    for filename in os.listdir(os.path.join(val_path, class_name)):\n",
        "        # Load the image using OpenCV\n",
        "        img = cv2.imread(os.path.join(val_path, class_name, filename))\n",
        "\n",
        "        # Resize the image to a fixed size\n",
        "        img = cv2.resize(img, (224,224))\n",
        "\n",
        "        # Add the image and label to the lists\n",
        "        val_images.append(img)\n",
        "        val_labels.append(i)"
      ]
    },
    {
      "cell_type": "code",
      "execution_count": null,
      "metadata": {
        "id": "l7ca_u6y1YoL"
      },
      "outputs": [],
      "source": [
        "# Convert the images and labels to NumPy arrays\n",
        "val_images = np.array(val_images)\n",
        "val_labels = np.array(val_labels)"
      ]
    },
    {
      "cell_type": "code",
      "execution_count": null,
      "metadata": {
        "id": "MCPluWiBSIbC"
      },
      "outputs": [],
      "source": [
        "# Normalize the pixel values to the range [0,1]\n",
        "val_images = val_images / 255.0"
      ]
    },
    {
      "cell_type": "code",
      "execution_count": null,
      "metadata": {
        "id": "figC2S-CVB1M"
      },
      "outputs": [],
      "source": [
        "import matplotlib.pyplot as plt\n",
        "\n",
        "# Plot a few random samples from the training set\n",
        "for i in range(9):\n",
        "    plt.subplot(330 + 1 + i)\n",
        "    plt.imshow(train_images[i])\n",
        "plt.show()"
      ]
    },
    {
      "cell_type": "markdown",
      "metadata": {
        "id": "h4wqEcmcFjnY"
      },
      "source": [
        "CREATING MODEL"
      ]
    },
    {
      "cell_type": "code",
      "execution_count": null,
      "metadata": {
        "id": "bm6aXH56Ucam"
      },
      "outputs": [],
      "source": [
        "base_model = tf.keras.applications.VGG19(\n",
        " include_top=False,\n",
        "    weights=\"imagenet\",\n",
        "    input_tensor=None,\n",
        "    input_shape=(224,224,3), #removing 3 from(224,224,3) as grayscale imaged are now being used\n",
        "    pooling=None,\n",
        "    classes=4,\n",
        "    )"
      ]
    },
    {
      "cell_type": "code",
      "execution_count": null,
      "metadata": {
        "id": "Lu90K4GZQYKm"
      },
      "outputs": [],
      "source": [
        "from keras.layers import Dense, GlobalAveragePooling2D\n",
        "from keras.models import Model\n",
        "from keras.optimizers import Adam\n",
        "\n",
        "base_model = tf.keras.applications.VGG19(\n",
        "include_top=False,\n",
        "  weights=\"imagenet\",\n",
        "  input_tensor=None,\n",
        "  input_shape=(224,224,3), #removing 3 from(224,224,3) as grayscale imaged are now being used\n",
        "  pooling=None,\n",
        "  classes=4,\n",
        "  )\n",
        "x = base_model.output\n",
        "x = GlobalAveragePooling2D()(x)\n",
        "x = Dense(5, activation='softmax')(x)\n",
        "\n",
        "# Compile the model with a categorical cross-entropy loss function and an Adam optimizer\n",
        "model = Model(inputs=base_model.input, outputs=x)\n",
        "model.compile(loss='sparse_categorical_crossentropy', optimizer=Adam(lr=0.001), metrics=['accuracy'])"
      ]
    },
    {
      "cell_type": "code",
      "execution_count": null,
      "metadata": {
        "id": "Rgc5z3mQ6yM9"
      },
      "outputs": [],
      "source": [
        "histry = model.fit(train_images, train_labels, epochs=50, batch_size=8, validation_data=(val_images, val_labels))"
      ]
    },
    {
      "cell_type": "code",
      "execution_count": null,
      "metadata": {
        "id": "OM4AdZGL8PVm"
      },
      "outputs": [],
      "source": [
        "# loading TEST data\n",
        "# Create a list to store the validation_images and labels\n",
        "test_images = []\n",
        "test_labels = []\n",
        "\n",
        "# test data\n",
        "path_test = '/test_data'\n",
        "\n",
        "# Loop over each class directory\n",
        "for i, class_name in enumerate(os.listdir(path_test)):\n",
        "    # Loop over each image in the class directory\n",
        "    for filename in os.listdir(os.path.join(path_test, class_name)):\n",
        "        # Load the image using OpenCV\n",
        "        img = cv2.imread(os.path.join(path_test, class_name, filename))\n",
        "\n",
        "        # Resize the image to a fixed size\n",
        "        img = cv2.resize(img, (224,224))\n",
        "\n",
        "        # Add the image and label to the lists\n",
        "        test_images.append(img)\n",
        "        test_labels.append(i)"
      ]
    },
    {
      "cell_type": "code",
      "execution_count": null,
      "metadata": {
        "id": "oXIOMZtK80jk"
      },
      "outputs": [],
      "source": [
        "# Convert the images and labels to NumPy arrays\n",
        "test_images = np.array(test_images)\n",
        "test_labels = np.array(test_labels)\n",
        "\n",
        "# Normalize the pixel values to the range [0,1]\n",
        "test_images = test_images / 255.0\n"
      ]
    },
    {
      "cell_type": "code",
      "execution_count": null,
      "metadata": {
        "id": "S5fRll3hZ0Cw"
      },
      "outputs": [],
      "source": [
        "test_loss, test_acc = model.evaluate(test_images, test_labels, batch_size=8)\n",
        "print('Test loss:', test_loss)\n",
        "print('Test accuracy:', test_acc)"
      ]
    },
    {
      "cell_type": "code",
      "execution_count": null,
      "metadata": {
        "id": "8KFnS70VVv8Y"
      },
      "outputs": [],
      "source": [
        "print(\"val labels:\", val_labels) #validation labels should have the labels of all 5 classes\n",
        "print(\"Test labels:\", test_labels)\n",
        "print(\"Train labels:\", train_labels) # train labels should have the labels of all 5 classes"
      ]
    },
    {
      "cell_type": "markdown",
      "metadata": {
        "id": "nNggNFW7cdeT"
      },
      "source": [
        "saving model weights through this command"
      ]
    },
    {
      "cell_type": "code",
      "execution_count": null,
      "metadata": {
        "id": "a9mlKFTacdH2"
      },
      "outputs": [],
      "source": [
        "model.save('my_model_RESNET%)_#CLASSES.h5')"
      ]
    },
    {
      "cell_type": "code",
      "execution_count": null,
      "metadata": {
        "colab": {
          "base_uri": "https://localhost:8080/"
        },
        "id": "Ac7-qPBvc5hc",
        "outputId": "9e21d692-5c2e-4641-afe8-3ebd02a88342"
      },
      "outputs": [
        {
          "name": "stderr",
          "output_type": "stream",
          "text": [
            "WARNING:absl:Found untraced functions such as _jit_compiled_convolution_op, _jit_compiled_convolution_op, _jit_compiled_convolution_op, _jit_compiled_convolution_op, _jit_compiled_convolution_op while saving (showing 5 of 53). These functions will not be directly callable after loading.\n"
          ]
        }
      ],
      "source": [
        "model.save('saved_model_RESNET50_3classes/my_model')"
      ]
    },
    {
      "cell_type": "markdown",
      "metadata": {
        "id": "qntRtcwrF_mA"
      },
      "source": [
        "loading previously saved model"
      ]
    },
    {
      "cell_type": "markdown",
      "metadata": {
        "id": "5eCsez50rxDq"
      },
      "source": [
        "CLASSIFICATION REPORT"
      ]
    },
    {
      "cell_type": "code",
      "execution_count": null,
      "metadata": {
        "id": "Sv-sv-P8Gxnz"
      },
      "outputs": [],
      "source": [
        "from sklearn.metrics import classification_report"
      ]
    },
    {
      "cell_type": "code",
      "execution_count": null,
      "metadata": {
        "id": "4fH58yYMlpAQ"
      },
      "outputs": [],
      "source": [
        "# Predict the classes for test data\n",
        "predictions = model.predict(test_images)\n",
        "#convert label array into 1D\n",
        "test_labels = np.array(test_labels).ravel()\n",
        "# Convert predictions to class labels\n",
        "predictions = np.argmax(predictions, axis=1)\n",
        "print(predictions)\n",
        "# Get the class-wise accuracy\n",
        "print(classification_report(test_labels, predictions))"
      ]
    },
    {
      "cell_type": "code",
      "execution_count": null,
      "metadata": {
        "id": "k-XV063-kghM"
      },
      "outputs": [],
      "source": [
        "# Get the class-wise accuracy\n",
        "print(classification_report(test_labels, predictions))"
      ]
    },
    {
      "cell_type": "markdown",
      "metadata": {
        "id": "6u9gfdb0H_bN"
      },
      "source": [
        "checking no. of images for training, testing and validation"
      ]
    },
    {
      "cell_type": "code",
      "execution_count": null,
      "metadata": {
        "id": "C_cZKNvNIQ6Q"
      },
      "outputs": [],
      "source": [
        "no_images_train=train_images.shape[0]\n",
        "no_images_test=test_images.shape[0]\n",
        "no_images_val=val_images.shape[0]\n",
        "print('no. of images in training:', no_images_train)\n",
        "print('no. of images in testing:', no_images_test)\n",
        "print('no. of images in validation:', no_images_val)"
      ]
    }
  ],
  "metadata": {
    "colab": {
      "provenance": []
    },
    "gpuClass": "standard",
    "kernelspec": {
      "display_name": "Python 3",
      "name": "python3"
    },
    "language_info": {
      "name": "python"
    }
  },
  "nbformat": 4,
  "nbformat_minor": 0
}